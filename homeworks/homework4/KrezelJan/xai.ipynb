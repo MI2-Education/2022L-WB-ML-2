{
 "cells": [
  {
   "cell_type": "markdown",
   "metadata": {},
   "source": [
    "## Praca Domowa 4 - XAI\n",
    "\n",
    "Wykorzystam model ```RandomForestClassifier``` użyty do klasyfikacji zestawu ```airline_satisfaction```."
   ]
  },
  {
   "cell_type": "code",
   "execution_count": 1,
   "metadata": {},
   "outputs": [],
   "source": [
    "import pandas as pd\n",
    "import numpy as np\n",
    "import matplotlib.pyplot as plt\n",
    "import seaborn as sns\n",
    "import plotly.express as px\n",
    "from sklearn.model_selection import train_test_split\n",
    "\n",
    "from sklearn.ensemble import RandomForestClassifier\n",
    "from sklearn.preprocessing import OrdinalEncoder\n",
    "from sklearn.compose import ColumnTransformer\n",
    "from sklearn.impute import SimpleImputer\n",
    "from sklearn.pipeline import Pipeline"
   ]
  },
  {
   "cell_type": "markdown",
   "metadata": {},
   "source": [
    "### Wczytanie danych i przygotowanie modelu"
   ]
  },
  {
   "cell_type": "code",
   "execution_count": 2,
   "metadata": {},
   "outputs": [],
   "source": [
    "df_train = pd.read_csv('data/train.csv', index_col=0, keep_default_na=False)\n",
    "df_train.drop('id', axis=1, inplace=True)\n",
    "X_train, y_train = df_train.drop('satisfaction', axis=1), df_train['satisfaction']\n",
    "\n",
    "df_test = pd.read_csv('data/test.csv', index_col=0, keep_default_na=False)\n",
    "df_test.drop('id', axis=1, inplace=True)\n",
    "X_test, y_test = df_test.drop('satisfaction', axis=1), df_test['satisfaction']\n"
   ]
  },
  {
   "cell_type": "code",
   "execution_count": 3,
   "metadata": {},
   "outputs": [],
   "source": [
    "ct = ColumnTransformer(\n",
    "    [\n",
    "        ('ordinal_encoder', OrdinalEncoder(), [0, 1, 3, 4]),\n",
    "        ('simple_imputer', SimpleImputer(missing_values='', strategy='constant', fill_value=0), [-1]) # Arrival Delay in minutes\n",
    "    ],\n",
    "    remainder='passthrough'\n",
    ")\n",
    "rfc = Pipeline(\n",
    "    [\n",
    "        ('column_transformer', ct),\n",
    "        ('model', RandomForestClassifier(n_estimators=100, max_depth=25, min_samples_split=7.2e-05)) # hiperparametry wyznaczone w PD2\n",
    "    ]\n",
    ")"
   ]
  },
  {
   "cell_type": "code",
   "execution_count": 4,
   "metadata": {},
   "outputs": [
    {
     "data": {
      "text/plain": [
       "0.9627348321527563"
      ]
     },
     "execution_count": 4,
     "metadata": {},
     "output_type": "execute_result"
    }
   ],
   "source": [
    "rfc.fit(X_train, y_train)\n",
    "rfc.score(X_test, y_test)"
   ]
  },
  {
   "cell_type": "markdown",
   "metadata": {},
   "source": [
    "Tutaj dodam, że oryginalny model z PD2 był inny, ponieważ dostrajałem go na zbiorze treningowym, a nie walidacyjnym :((. Jednak wykorzystując dokładnie tą samą metodę dostrajania uzyskałem powyższy model, z którego będę dalej korzystał. "
   ]
  },
  {
   "cell_type": "markdown",
   "metadata": {},
   "source": [
    "### Odtworzenie przetransformowanej ramki danych\n",
    "\n",
    "Niestety po przejściu przez Pipeline każdy dataframe staje się tablicą numpy przez co tracimy nazwy kolumn."
   ]
  },
  {
   "cell_type": "code",
   "execution_count": 5,
   "metadata": {},
   "outputs": [],
   "source": [
    "X_train_processed = ct.fit_transform(X_train)\n",
    "X_test_processed = ct.transform(X_test)"
   ]
  },
  {
   "cell_type": "code",
   "execution_count": 6,
   "metadata": {},
   "outputs": [],
   "source": [
    "new_columns = ['Gender', 'Customer Type', 'Type of Travel', 'Class', 'Arrival Delay in Minutes', 'Age']\n",
    "new_columns.extend(X_train.columns[5:-1])\n",
    "X_train_processed = pd.DataFrame(X_train_processed, columns=new_columns)\n",
    "X_test_processed = pd.DataFrame(X_test_processed, columns=new_columns)"
   ]
  },
  {
   "cell_type": "markdown",
   "metadata": {},
   "source": [
    "### DALEX\n",
    "\n",
    "Wpierw wykorzystam pakiet DALEX do analizy zachowania modelu dla pojedynczych obserwacji"
   ]
  },
  {
   "cell_type": "code",
   "execution_count": 7,
   "metadata": {},
   "outputs": [],
   "source": [
    "import dalex as dx"
   ]
  },
  {
   "cell_type": "code",
   "execution_count": null,
   "metadata": {},
   "outputs": [],
   "source": [
    "exp = dx.Explainer(rfc, X_train, y_train)"
   ]
  },
  {
   "cell_type": "markdown",
   "metadata": {},
   "source": [
    "Weźmy kilka losowych osób"
   ]
  },
  {
   "cell_type": "code",
   "execution_count": 182,
   "metadata": {},
   "outputs": [],
   "source": [
    "np.random.seed(42)\n",
    "samples_idx = np.random.randint(len(X_test), size=4)\n",
    "samples = X_test.iloc[samples_idx]"
   ]
  },
  {
   "cell_type": "markdown",
   "metadata": {},
   "source": [
    "Jakie osoby wybraliśmy?"
   ]
  },
  {
   "cell_type": "code",
   "execution_count": 191,
   "metadata": {},
   "outputs": [
    {
     "data": {
      "text/html": [
       "<div>\n",
       "<style scoped>\n",
       "    .dataframe tbody tr th:only-of-type {\n",
       "        vertical-align: middle;\n",
       "    }\n",
       "\n",
       "    .dataframe tbody tr th {\n",
       "        vertical-align: top;\n",
       "    }\n",
       "\n",
       "    .dataframe thead th {\n",
       "        text-align: right;\n",
       "    }\n",
       "</style>\n",
       "<table border=\"1\" class=\"dataframe\">\n",
       "  <thead>\n",
       "    <tr style=\"text-align: right;\">\n",
       "      <th></th>\n",
       "      <th>Gender</th>\n",
       "      <th>Customer Type</th>\n",
       "      <th>Age</th>\n",
       "      <th>Type of Travel</th>\n",
       "      <th>Arrival Delay in Minutes</th>\n",
       "    </tr>\n",
       "  </thead>\n",
       "  <tbody>\n",
       "    <tr>\n",
       "      <th>23654</th>\n",
       "      <td>Female</td>\n",
       "      <td>Loyal Customer</td>\n",
       "      <td>62</td>\n",
       "      <td>Personal Travel</td>\n",
       "      <td>67.0</td>\n",
       "    </tr>\n",
       "    <tr>\n",
       "      <th>15795</th>\n",
       "      <td>Female</td>\n",
       "      <td>Loyal Customer</td>\n",
       "      <td>13</td>\n",
       "      <td>Personal Travel</td>\n",
       "      <td>0.0</td>\n",
       "    </tr>\n",
       "    <tr>\n",
       "      <th>860</th>\n",
       "      <td>Female</td>\n",
       "      <td>Loyal Customer</td>\n",
       "      <td>57</td>\n",
       "      <td>Business travel</td>\n",
       "      <td>0.0</td>\n",
       "    </tr>\n",
       "    <tr>\n",
       "      <th>5390</th>\n",
       "      <td>Male</td>\n",
       "      <td>Loyal Customer</td>\n",
       "      <td>36</td>\n",
       "      <td>Business travel</td>\n",
       "      <td>0.0</td>\n",
       "    </tr>\n",
       "  </tbody>\n",
       "</table>\n",
       "</div>"
      ],
      "text/plain": [
       "       Gender   Customer Type  Age   Type of Travel Arrival Delay in Minutes\n",
       "23654  Female  Loyal Customer   62  Personal Travel                     67.0\n",
       "15795  Female  Loyal Customer   13  Personal Travel                      0.0\n",
       "860    Female  Loyal Customer   57  Business travel                      0.0\n",
       "5390     Male  Loyal Customer   36  Business travel                      0.0"
      ]
     },
     "execution_count": 191,
     "metadata": {},
     "output_type": "execute_result"
    }
   ],
   "source": [
    "samples.iloc[0:, [0, 1, 2, 3, -1]]"
   ]
  },
  {
   "cell_type": "code",
   "execution_count": 200,
   "metadata": {},
   "outputs": [
    {
     "data": {
      "text/plain": [
       "23654    neutral or dissatisfied\n",
       "15795    neutral or dissatisfied\n",
       "860                    satisfied\n",
       "5390                   satisfied\n",
       "Name: satisfaction, dtype: object"
      ]
     },
     "execution_count": 200,
     "metadata": {},
     "output_type": "execute_result"
    }
   ],
   "source": [
    "y_test[samples_idx]"
   ]
  },
  {
   "cell_type": "markdown",
   "metadata": {},
   "source": [
    "Udało nam się wylosować całkiem ciekawą próbkę. Oprócz ```Customer Type``` (który w dużej większosci jest równy *Loyal Customer*) mamy różne wartości dla profilu osoby."
   ]
  },
  {
   "cell_type": "code",
   "execution_count": 207,
   "metadata": {},
   "outputs": [],
   "source": [
    "bd_sample_1 = exp.predict_parts(samples.iloc[0], type='break_down', label='Old Woman, Personal Flight, Delayed')"
   ]
  },
  {
   "cell_type": "code",
   "execution_count": 213,
   "metadata": {},
   "outputs": [
    {
     "data": {
      "application/vnd.plotly.v1+json": {
       "config": {
        "displaylogo": false,
        "modeBarButtonsToRemove": [
         "sendDataToCloud",
         "lasso2d",
         "autoScale2d",
         "select2d",
         "zoom2d",
         "pan2d",
         "zoomIn2d",
         "zoomOut2d",
         "resetScale2d",
         "toggleSpikelines",
         "hoverCompareCartesian",
         "hoverClosestCartesian"
        ],
        "plotlyServerURL": "https://plot.ly",
        "staticPlot": false,
        "toImageButtonOptions": {
         "height": null,
         "width": null
        }
       },
       "data": [
        {
         "base": 0.43364514510374175,
         "connector": {
          "line": {
           "color": "#371ea3",
           "dash": "solid",
           "width": 1
          },
          "mode": "spanning"
         },
         "decreasing": {
          "marker": {
           "color": "#f05a71"
          }
         },
         "hoverinfo": "text+delta",
         "hoverlabel": {
          "bgcolor": "rgba(0,0,0,0.8)"
         },
         "hovertext": [
          "Average response: 0.434<br>Prediction: 0.004",
          "Customer Type = Loyal Customer<br>increases average response by",
          "Food and drink = 4.0<br>increases average response by",
          "Cleanliness = 4.0<br>increases average response by",
          "Seat comfort = 4.0<br>increases average response by",
          "Departure Delay in Minutes = 54.0<br>decreases average response by",
          "Departure/Arrival time convenient = 1.0<br>decreases average response by",
          "Checkin service = 4.0<br>increases average response by",
          "Gender = Female<br>decreases average response by",
          "Flight Distance = 672.0<br>decreases average response by",
          "Inflight entertainment = 3.0<br>decreases average response by",
          "Age = 62.0<br>decreases average response by",
          "Ease of Online booking = 2.0<br>decreases average response by",
          "Arrival Delay in Minutes = 67.0<br>decreases average response by",
          "On-board service = 3.0<br>decreases average response by",
          "Gate location = 4.0<br>decreases average response by",
          "Baggage handling = 3.0<br>decreases average response by",
          "Inflight service = 3.0<br>decreases average response by",
          "Leg room service = 2.0<br>decreases average response by",
          "Online boarding = 3.0<br>decreases average response by",
          "Class = Eco<br>decreases average response by",
          "Inflight wifi service = 2.0<br>decreases average response by",
          "Type of Travel = Personal Travel<br>decreases average response by",
          "Average response: 0.434<br>Prediction: 0.004"
         ],
         "increasing": {
          "marker": {
           "color": "#8bdcbe"
          }
         },
         "measure": [
          "relative",
          "relative",
          "relative",
          "relative",
          "relative",
          "relative",
          "relative",
          "relative",
          "relative",
          "relative",
          "relative",
          "relative",
          "relative",
          "relative",
          "relative",
          "relative",
          "relative",
          "relative",
          "relative",
          "relative",
          "relative",
          "relative",
          "relative",
          "total"
         ],
         "orientation": "h",
         "showlegend": false,
         "text": [
          "0.434",
          "+0.037",
          "+0.009",
          "+0.003",
          "+0.002",
          "0.0",
          "0.0",
          "+0.001",
          "0.0",
          "-0.001",
          "-0.013",
          "-0.023",
          "-0.014",
          "-0.015",
          "-0.003",
          "-0.024",
          "-0.032",
          "-0.023",
          "-0.041",
          "-0.093",
          "-0.026",
          "-0.137",
          "-0.037",
          "0.004"
         ],
         "textposition": "outside",
         "totals": {
          "marker": {
           "color": "#371ea3"
          }
         },
         "type": "waterfall",
         "x": [
          0,
          0.037,
          0.009,
          0.003,
          0.002,
          0,
          0,
          0.001,
          0,
          -0.001,
          -0.013,
          -0.023,
          -0.014,
          -0.015,
          -0.003,
          -0.024,
          -0.032,
          -0.023,
          -0.041,
          -0.093,
          -0.026,
          -0.137,
          -0.037,
          -0.43
         ],
         "xaxis": "x",
         "y": [
          "intercept",
          "Customer Type = Loyal Customer",
          "Food and drink = 4.0",
          "Cleanliness = 4.0",
          "Seat comfort = 4.0",
          "Departure Delay in Minutes = 54.0",
          "Departure/Arrival time convenient = 1.0",
          "Checkin service = 4.0",
          "Gender = Female",
          "Flight Distance = 672.0",
          "Inflight entertainment = 3.0",
          "Age = 62.0",
          "Ease of Online booking = 2.0",
          "Arrival Delay in Minutes = 67.0",
          "On-board service = 3.0",
          "Gate location = 4.0",
          "Baggage handling = 3.0",
          "Inflight service = 3.0",
          "Leg room service = 2.0",
          "Online boarding = 3.0",
          "Class = Eco",
          "Inflight wifi service = 2.0",
          "Type of Travel = Personal Travel",
          "prediction"
         ],
         "yaxis": "y"
        }
       ],
       "layout": {
        "annotations": [
         {
          "font": {
           "size": 16
          },
          "showarrow": false,
          "text": "Old Woman, Personal Flight, Delayed",
          "x": 0.5,
          "xanchor": "center",
          "xref": "paper",
          "y": 1,
          "yanchor": "bottom",
          "yref": "paper"
         },
         {
          "font": {
           "size": 16
          },
          "showarrow": false,
          "text": "contribution",
          "x": 0.5,
          "xanchor": "center",
          "xref": "paper",
          "y": 0,
          "yanchor": "top",
          "yref": "paper",
          "yshift": -30
         }
        ],
        "font": {
         "color": "#371ea3"
        },
        "height": 633,
        "margin": {
         "b": 71,
         "r": 30,
         "t": 78
        },
        "shapes": [
         {
          "line": {
           "color": "#371ea3",
           "dash": "dot",
           "width": 1.5
          },
          "type": "line",
          "x0": 0.43364514510374175,
          "x1": 0.43364514510374175,
          "xref": "x",
          "y0": -1,
          "y1": 24,
          "yref": "y"
         }
        ],
        "template": {
         "data": {
          "scatter": [
           {
            "type": "scatter"
           }
          ]
         }
        },
        "title": {
         "text": "Break Down",
         "x": 0.15
        },
        "xaxis": {
         "anchor": "y",
         "automargin": true,
         "domain": [
          0,
          1
         ],
         "fixedrange": true,
         "gridwidth": 2,
         "range": [
          -0.06845,
          0.55945
         ],
         "tickcolor": "white",
         "ticklen": 3,
         "ticks": "outside",
         "type": "linear",
         "zeroline": false
        },
        "yaxis": {
         "anchor": "x",
         "automargin": true,
         "autorange": "reversed",
         "domain": [
          0,
          1
         ],
         "fixedrange": true,
         "gridwidth": 2,
         "tickcolor": "white",
         "ticklen": 10,
         "ticks": "outside",
         "type": "category"
        }
       }
      }
     },
     "metadata": {},
     "output_type": "display_data"
    }
   ],
   "source": [
    "bd_sample_1.plot(max_vars = 22)"
   ]
  },
  {
   "cell_type": "code",
   "execution_count": 208,
   "metadata": {},
   "outputs": [],
   "source": [
    "bd_sample_2 = exp.predict_parts(samples.iloc[1], type='break_down', label='Young Girl, Personal Flight')"
   ]
  },
  {
   "cell_type": "code",
   "execution_count": 214,
   "metadata": {},
   "outputs": [
    {
     "data": {
      "application/vnd.plotly.v1+json": {
       "config": {
        "displaylogo": false,
        "modeBarButtonsToRemove": [
         "sendDataToCloud",
         "lasso2d",
         "autoScale2d",
         "select2d",
         "zoom2d",
         "pan2d",
         "zoomIn2d",
         "zoomOut2d",
         "resetScale2d",
         "toggleSpikelines",
         "hoverCompareCartesian",
         "hoverClosestCartesian"
        ],
        "plotlyServerURL": "https://plot.ly",
        "staticPlot": false,
        "toImageButtonOptions": {
         "height": null,
         "width": null
        }
       },
       "data": [
        {
         "base": 0.43364514510374175,
         "connector": {
          "line": {
           "color": "#371ea3",
           "dash": "solid",
           "width": 1
          },
          "mode": "spanning"
         },
         "decreasing": {
          "marker": {
           "color": "#f05a71"
          }
         },
         "hoverinfo": "text+delta",
         "hoverlabel": {
          "bgcolor": "rgba(0,0,0,0.8)"
         },
         "hovertext": [
          "Average response: 0.434<br>Prediction: 0.0",
          "Cleanliness = 5.0<br>increases average response by",
          "Seat comfort = 5.0<br>increases average response by",
          "On-board service = 5.0<br>increases average response by",
          "Customer Type = Loyal Customer<br>increases average response by",
          "Inflight entertainment = 5.0<br>decreases average response by",
          "Leg room service = 5.0<br>increases average response by",
          "Food and drink = 5.0<br>decreases average response by",
          "Arrival Delay in Minutes = 0.0<br>increases average response by",
          "Departure Delay in Minutes = 13.0<br>decreases average response by",
          "Checkin service = 4.0<br>decreases average response by",
          "Gender = Female<br>decreases average response by",
          "Departure/Arrival time convenient = 4.0<br>decreases average response by",
          "Flight Distance = 441.0<br>decreases average response by",
          "Age = 13.0<br>decreases average response by",
          "Ease of Online booking = 3.0<br>decreases average response by",
          "Gate location = 2.0<br>decreases average response by",
          "Baggage handling = 3.0<br>decreases average response by",
          "Inflight service = 3.0<br>decreases average response by",
          "Online boarding = 3.0<br>decreases average response by",
          "Class = Eco<br>increases average response by",
          "Inflight wifi service = 3.0<br>decreases average response by",
          "Type of Travel = Personal Travel<br>decreases average response by",
          "Average response: 0.434<br>Prediction: 0.0"
         ],
         "increasing": {
          "marker": {
           "color": "#8bdcbe"
          }
         },
         "measure": [
          "relative",
          "relative",
          "relative",
          "relative",
          "relative",
          "relative",
          "relative",
          "relative",
          "relative",
          "relative",
          "relative",
          "relative",
          "relative",
          "relative",
          "relative",
          "relative",
          "relative",
          "relative",
          "relative",
          "relative",
          "relative",
          "relative",
          "relative",
          "total"
         ],
         "orientation": "h",
         "showlegend": false,
         "text": [
          "0.434",
          "+0.079",
          "+0.011",
          "+0.002",
          "+0.053",
          "-0.014",
          "+0.019",
          "-0.004",
          "+0.006",
          "-0.001",
          "-0.003",
          "0.0",
          "-0.004",
          "-0.005",
          "-0.02",
          "-0.007",
          "-0.017",
          "-0.015",
          "-0.021",
          "-0.147",
          "+0.022",
          "-0.08",
          "-0.285",
          "0.0"
         ],
         "textposition": "outside",
         "totals": {
          "marker": {
           "color": "#371ea3"
          }
         },
         "type": "waterfall",
         "x": [
          0,
          0.079,
          0.011,
          0.002,
          0.053,
          -0.014,
          0.019,
          -0.004,
          0.006,
          -0.001,
          -0.003,
          0,
          -0.004,
          -0.005,
          -0.02,
          -0.007,
          -0.017,
          -0.015,
          -0.021,
          -0.147,
          0.022,
          -0.08,
          -0.285,
          -0.434
         ],
         "xaxis": "x",
         "y": [
          "intercept",
          "Cleanliness = 5.0",
          "Seat comfort = 5.0",
          "On-board service = 5.0",
          "Customer Type = Loyal Customer",
          "Inflight entertainment = 5.0",
          "Leg room service = 5.0",
          "Food and drink = 5.0",
          "Arrival Delay in Minutes = 0.0",
          "Departure Delay in Minutes = 13.0",
          "Checkin service = 4.0",
          "Gender = Female",
          "Departure/Arrival time convenient = 4.0",
          "Flight Distance = 441.0",
          "Age = 13.0",
          "Ease of Online booking = 3.0",
          "Gate location = 2.0",
          "Baggage handling = 3.0",
          "Inflight service = 3.0",
          "Online boarding = 3.0",
          "Class = Eco",
          "Inflight wifi service = 3.0",
          "Type of Travel = Personal Travel",
          "prediction"
         ],
         "yaxis": "y"
        }
       ],
       "layout": {
        "annotations": [
         {
          "font": {
           "size": 16
          },
          "showarrow": false,
          "text": "Young Girl, Personal Flight",
          "x": 0.5,
          "xanchor": "center",
          "xref": "paper",
          "y": 1,
          "yanchor": "bottom",
          "yref": "paper"
         },
         {
          "font": {
           "size": 16
          },
          "showarrow": false,
          "text": "contribution",
          "x": 0.5,
          "xanchor": "center",
          "xref": "paper",
          "y": 0,
          "yanchor": "top",
          "yref": "paper",
          "yshift": -30
         }
        ],
        "font": {
         "color": "#371ea3"
        },
        "height": 633,
        "margin": {
         "b": 71,
         "r": 30,
         "t": 78
        },
        "shapes": [
         {
          "line": {
           "color": "#371ea3",
           "dash": "dot",
           "width": 1.5
          },
          "type": "line",
          "x0": 0.43364514510374175,
          "x1": 0.43364514510374175,
          "xref": "x",
          "y0": -1,
          "y1": 24,
          "yref": "y"
         }
        ],
        "template": {
         "data": {
          "scatter": [
           {
            "type": "scatter"
           }
          ]
         }
        },
        "title": {
         "text": "Break Down",
         "x": 0.15
        },
        "xaxis": {
         "anchor": "y",
         "automargin": true,
         "domain": [
          0,
          1
         ],
         "fixedrange": true,
         "gridwidth": 2,
         "range": [
          -0.08775,
          0.67275
         ],
         "tickcolor": "white",
         "ticklen": 3,
         "ticks": "outside",
         "type": "linear",
         "zeroline": false
        },
        "yaxis": {
         "anchor": "x",
         "automargin": true,
         "autorange": "reversed",
         "domain": [
          0,
          1
         ],
         "fixedrange": true,
         "gridwidth": 2,
         "tickcolor": "white",
         "ticklen": 10,
         "ticks": "outside",
         "type": "category"
        }
       }
      }
     },
     "metadata": {},
     "output_type": "display_data"
    }
   ],
   "source": [
    "bd_sample_2.plot(max_vars = 22)"
   ]
  },
  {
   "cell_type": "code",
   "execution_count": 209,
   "metadata": {},
   "outputs": [],
   "source": [
    "bd_sample_3 = exp.predict_parts(samples.iloc[3], type='break_down', label='Adult Man, Business Flight')"
   ]
  },
  {
   "cell_type": "code",
   "execution_count": 215,
   "metadata": {},
   "outputs": [
    {
     "data": {
      "application/vnd.plotly.v1+json": {
       "config": {
        "displaylogo": false,
        "modeBarButtonsToRemove": [
         "sendDataToCloud",
         "lasso2d",
         "autoScale2d",
         "select2d",
         "zoom2d",
         "pan2d",
         "zoomIn2d",
         "zoomOut2d",
         "resetScale2d",
         "toggleSpikelines",
         "hoverCompareCartesian",
         "hoverClosestCartesian"
        ],
        "plotlyServerURL": "https://plot.ly",
        "staticPlot": false,
        "toImageButtonOptions": {
         "height": null,
         "width": null
        }
       },
       "data": [
        {
         "base": 0.43364514510374175,
         "connector": {
          "line": {
           "color": "#371ea3",
           "dash": "solid",
           "width": 1
          },
          "mode": "spanning"
         },
         "decreasing": {
          "marker": {
           "color": "#f05a71"
          }
         },
         "hoverinfo": "text+delta",
         "hoverlabel": {
          "bgcolor": "rgba(0,0,0,0.8)"
         },
         "hovertext": [
          "Average response: 0.434<br>Prediction: 0.97",
          "Type of Travel = Business travel<br>increases average response by",
          "Inflight wifi service = 4.0<br>increases average response by",
          "On-board service = 5.0<br>increases average response by",
          "Online boarding = 4.0<br>increases average response by",
          "Customer Type = Loyal Customer<br>increases average response by",
          "Inflight entertainment = 4.0<br>increases average response by",
          "Leg room service = 4.0<br>increases average response by",
          "Food and drink = 4.0<br>increases average response by",
          "Arrival Delay in Minutes = 0.0<br>increases average response by",
          "Cleanliness = 4.0<br>increases average response by",
          "Seat comfort = 4.0<br>increases average response by",
          "Departure Delay in Minutes = 0.0<br>increases average response by",
          "Departure/Arrival time convenient = 2.0<br>increases average response by",
          "Checkin service = 4.0<br>decreases average response by",
          "Gender = Male<br>increases average response by",
          "Inflight service = 1.0<br>increases average response by",
          "Flight Distance = 387.0<br>decreases average response by",
          "Age = 36.0<br>increases average response by",
          "Ease of Online booking = 2.0<br>decreases average response by",
          "Gate location = 2.0<br>decreases average response by",
          "Baggage handling = 3.0<br>decreases average response by",
          "Class = Eco Plus<br>increases average response by",
          "Average response: 0.434<br>Prediction: 0.97"
         ],
         "increasing": {
          "marker": {
           "color": "#8bdcbe"
          }
         },
         "measure": [
          "relative",
          "relative",
          "relative",
          "relative",
          "relative",
          "relative",
          "relative",
          "relative",
          "relative",
          "relative",
          "relative",
          "relative",
          "relative",
          "relative",
          "relative",
          "relative",
          "relative",
          "relative",
          "relative",
          "relative",
          "relative",
          "relative",
          "relative",
          "total"
         ],
         "orientation": "h",
         "showlegend": false,
         "text": [
          "0.434",
          "+0.099",
          "+0.042",
          "+0.049",
          "+0.015",
          "+0.026",
          "+0.024",
          "+0.008",
          "+0.017",
          "+0.009",
          "+0.019",
          "+0.019",
          "+0.005",
          "+0.006",
          "-0.015",
          "+0.005",
          "+0.043",
          "0.0",
          "+0.011",
          "-0.001",
          "-0.032",
          "-0.015",
          "+0.202",
          "0.97"
         ],
         "textposition": "outside",
         "totals": {
          "marker": {
           "color": "#371ea3"
          }
         },
         "type": "waterfall",
         "x": [
          0,
          0.099,
          0.042,
          0.049,
          0.015,
          0.026,
          0.024,
          0.008,
          0.017,
          0.009,
          0.019,
          0.019,
          0.005,
          0.006,
          -0.015,
          0.005,
          0.043,
          0,
          0.011,
          -0.001,
          -0.032,
          -0.015,
          0.202,
          0.536
         ],
         "xaxis": "x",
         "y": [
          "intercept",
          "Type of Travel = Business travel",
          "Inflight wifi service = 4.0",
          "On-board service = 5.0",
          "Online boarding = 4.0",
          "Customer Type = Loyal Customer",
          "Inflight entertainment = 4.0",
          "Leg room service = 4.0",
          "Food and drink = 4.0",
          "Arrival Delay in Minutes = 0.0",
          "Cleanliness = 4.0",
          "Seat comfort = 4.0",
          "Departure Delay in Minutes = 0.0",
          "Departure/Arrival time convenient = 2.0",
          "Checkin service = 4.0",
          "Gender = Male",
          "Inflight service = 1.0",
          "Flight Distance = 387.0",
          "Age = 36.0",
          "Ease of Online booking = 2.0",
          "Gate location = 2.0",
          "Baggage handling = 3.0",
          "Class = Eco Plus",
          "prediction"
         ],
         "yaxis": "y"
        }
       ],
       "layout": {
        "annotations": [
         {
          "font": {
           "size": 16
          },
          "showarrow": false,
          "text": "Adult Man, Business Flight",
          "x": 0.5,
          "xanchor": "center",
          "xref": "paper",
          "y": 1,
          "yanchor": "bottom",
          "yref": "paper"
         },
         {
          "font": {
           "size": 16
          },
          "showarrow": false,
          "text": "contribution",
          "x": 0.5,
          "xanchor": "center",
          "xref": "paper",
          "y": 0,
          "yanchor": "top",
          "yref": "paper",
          "yshift": -30
         }
        ],
        "font": {
         "color": "#371ea3"
        },
        "height": 633,
        "margin": {
         "b": 71,
         "r": 30,
         "t": 78
        },
        "shapes": [
         {
          "line": {
           "color": "#371ea3",
           "dash": "dot",
           "width": 1.5
          },
          "type": "line",
          "x0": 0.43364514510374175,
          "x1": 0.43364514510374175,
          "xref": "x",
          "y0": -1,
          "y1": 24,
          "yref": "y"
         }
        ],
        "template": {
         "data": {
          "scatter": [
           {
            "type": "scatter"
           }
          ]
         }
        },
        "title": {
         "text": "Break Down",
         "x": 0.15
        },
        "xaxis": {
         "anchor": "y",
         "automargin": true,
         "domain": [
          0,
          1
         ],
         "fixedrange": true,
         "gridwidth": 2,
         "range": [
          0.3536,
          1.0504
         ],
         "tickcolor": "white",
         "ticklen": 3,
         "ticks": "outside",
         "type": "linear",
         "zeroline": false
        },
        "yaxis": {
         "anchor": "x",
         "automargin": true,
         "autorange": "reversed",
         "domain": [
          0,
          1
         ],
         "fixedrange": true,
         "gridwidth": 2,
         "tickcolor": "white",
         "ticklen": 10,
         "ticks": "outside",
         "type": "category"
        }
       }
      }
     },
     "metadata": {},
     "output_type": "display_data"
    }
   ],
   "source": [
    "bd_sample_3.plot(max_vars = 22)"
   ]
  },
  {
   "cell_type": "markdown",
   "metadata": {},
   "source": [
    "### Analiza\n",
    "\n",
    "Przede wszystkim możemy zauwayżyć, że jakość WiFi jest tutaj dość znacząca. Wartość poniżej 4 skutkuje obniżeniem satysfakcji.\n",
    "\n",
    "Innym ważnym czynnikiem jest typ podróży. W obu pierwszych przypadkach typ ```Personal Travel``` obniżył satysfakcję natomiast ```Business Travel``` podwyższył ją w przypadku trzeciej osoby.\n",
    "\n",
    "Bycie lojalnym klientem w każdym przypadku zwiększyło satysfakcję.\n",
    "\n",
    "Co ciekawe według wykresu ponad godzina opóźnienia nie miała dużego wpływu na satysfakcję pierwszej osoby. Ten parametr warto by jednak sprawdzić dla podróży biznesowych, ponieważ tam stracony czas może mieć większe znaczenie.\n",
    "\n",
    "W pierwszym i drugim przypadku znaczenie miał też aytrybut ```Online Boarding```.\n",
    "\n",
    "Ogólnie większość atrybutów dokłada swoją małą cegiełkę do ogólnego wyniku. Oprócz pojedynczych zmiennych, które mają duży wpływ końcowa satysfakcja jest głównie wynikiem mniejszych lub większych udogodnień w trakcie lotu."
   ]
  },
  {
   "cell_type": "markdown",
   "metadata": {},
   "source": [
    "A jak wygląda **feature importance** wyznaczone przez RFC?"
   ]
  },
  {
   "cell_type": "code",
   "execution_count": 220,
   "metadata": {},
   "outputs": [],
   "source": [
    "rfc_fi = pd.DataFrame(data=dict(feature=new_columns, importance=rfc._final_estimator.feature_importances_)).sort_values(by='importance', ascending=False)"
   ]
  },
  {
   "cell_type": "code",
   "execution_count": 226,
   "metadata": {},
   "outputs": [
    {
     "data": {
      "application/vnd.plotly.v1+json": {
       "config": {
        "plotlyServerURL": "https://plot.ly"
       },
       "data": [
        {
         "alignmentgroup": "True",
         "hovertemplate": "x=%{x}<br>y=%{y}<extra></extra>",
         "legendgroup": "",
         "marker": {
          "color": "#636efa",
          "pattern": {
           "shape": ""
          }
         },
         "name": "",
         "offsetgroup": "",
         "orientation": "v",
         "showlegend": false,
         "textposition": "auto",
         "type": "bar",
         "x": [
          "Online boarding",
          "Inflight wifi service",
          "Type of Travel",
          "Class",
          "Inflight entertainment",
          "Seat comfort",
          "Customer Type",
          "Ease of Online booking",
          "Leg room service",
          "Flight Distance",
          "Inflight service",
          "On-board service",
          "Baggage handling",
          "Age",
          "Cleanliness",
          "Checkin service",
          "Departure/Arrival time convenient",
          "Gate location",
          "Food and drink",
          "Arrival Delay in Minutes",
          "Departure Delay in Minutes",
          "Gender"
         ],
         "xaxis": "x",
         "y": [
          0.16454402562623258,
          0.15357009385105064,
          0.11895654256482947,
          0.08421603483676968,
          0.06821581131548872,
          0.05122874422986826,
          0.04117383753625577,
          0.03873822154712334,
          0.03848412362631936,
          0.03274779950888607,
          0.02700644232193528,
          0.025908186188408396,
          0.02588370225502685,
          0.0254557642714209,
          0.02181759027950584,
          0.02150457680033209,
          0.01541647878642949,
          0.015416338184312952,
          0.009928085670152277,
          0.009264415953856969,
          0.008008018007473104,
          0.002515166638321894
         ],
         "yaxis": "y"
        }
       ],
       "layout": {
        "barmode": "relative",
        "legend": {
         "tracegroupgap": 0
        },
        "margin": {
         "t": 60
        },
        "template": {
         "data": {
          "bar": [
           {
            "error_x": {
             "color": "#2a3f5f"
            },
            "error_y": {
             "color": "#2a3f5f"
            },
            "marker": {
             "line": {
              "color": "#E5ECF6",
              "width": 0.5
             },
             "pattern": {
              "fillmode": "overlay",
              "size": 10,
              "solidity": 0.2
             }
            },
            "type": "bar"
           }
          ],
          "barpolar": [
           {
            "marker": {
             "line": {
              "color": "#E5ECF6",
              "width": 0.5
             },
             "pattern": {
              "fillmode": "overlay",
              "size": 10,
              "solidity": 0.2
             }
            },
            "type": "barpolar"
           }
          ],
          "carpet": [
           {
            "aaxis": {
             "endlinecolor": "#2a3f5f",
             "gridcolor": "white",
             "linecolor": "white",
             "minorgridcolor": "white",
             "startlinecolor": "#2a3f5f"
            },
            "baxis": {
             "endlinecolor": "#2a3f5f",
             "gridcolor": "white",
             "linecolor": "white",
             "minorgridcolor": "white",
             "startlinecolor": "#2a3f5f"
            },
            "type": "carpet"
           }
          ],
          "choropleth": [
           {
            "colorbar": {
             "outlinewidth": 0,
             "ticks": ""
            },
            "type": "choropleth"
           }
          ],
          "contour": [
           {
            "colorbar": {
             "outlinewidth": 0,
             "ticks": ""
            },
            "colorscale": [
             [
              0,
              "#0d0887"
             ],
             [
              0.1111111111111111,
              "#46039f"
             ],
             [
              0.2222222222222222,
              "#7201a8"
             ],
             [
              0.3333333333333333,
              "#9c179e"
             ],
             [
              0.4444444444444444,
              "#bd3786"
             ],
             [
              0.5555555555555556,
              "#d8576b"
             ],
             [
              0.6666666666666666,
              "#ed7953"
             ],
             [
              0.7777777777777778,
              "#fb9f3a"
             ],
             [
              0.8888888888888888,
              "#fdca26"
             ],
             [
              1,
              "#f0f921"
             ]
            ],
            "type": "contour"
           }
          ],
          "contourcarpet": [
           {
            "colorbar": {
             "outlinewidth": 0,
             "ticks": ""
            },
            "type": "contourcarpet"
           }
          ],
          "heatmap": [
           {
            "colorbar": {
             "outlinewidth": 0,
             "ticks": ""
            },
            "colorscale": [
             [
              0,
              "#0d0887"
             ],
             [
              0.1111111111111111,
              "#46039f"
             ],
             [
              0.2222222222222222,
              "#7201a8"
             ],
             [
              0.3333333333333333,
              "#9c179e"
             ],
             [
              0.4444444444444444,
              "#bd3786"
             ],
             [
              0.5555555555555556,
              "#d8576b"
             ],
             [
              0.6666666666666666,
              "#ed7953"
             ],
             [
              0.7777777777777778,
              "#fb9f3a"
             ],
             [
              0.8888888888888888,
              "#fdca26"
             ],
             [
              1,
              "#f0f921"
             ]
            ],
            "type": "heatmap"
           }
          ],
          "heatmapgl": [
           {
            "colorbar": {
             "outlinewidth": 0,
             "ticks": ""
            },
            "colorscale": [
             [
              0,
              "#0d0887"
             ],
             [
              0.1111111111111111,
              "#46039f"
             ],
             [
              0.2222222222222222,
              "#7201a8"
             ],
             [
              0.3333333333333333,
              "#9c179e"
             ],
             [
              0.4444444444444444,
              "#bd3786"
             ],
             [
              0.5555555555555556,
              "#d8576b"
             ],
             [
              0.6666666666666666,
              "#ed7953"
             ],
             [
              0.7777777777777778,
              "#fb9f3a"
             ],
             [
              0.8888888888888888,
              "#fdca26"
             ],
             [
              1,
              "#f0f921"
             ]
            ],
            "type": "heatmapgl"
           }
          ],
          "histogram": [
           {
            "marker": {
             "pattern": {
              "fillmode": "overlay",
              "size": 10,
              "solidity": 0.2
             }
            },
            "type": "histogram"
           }
          ],
          "histogram2d": [
           {
            "colorbar": {
             "outlinewidth": 0,
             "ticks": ""
            },
            "colorscale": [
             [
              0,
              "#0d0887"
             ],
             [
              0.1111111111111111,
              "#46039f"
             ],
             [
              0.2222222222222222,
              "#7201a8"
             ],
             [
              0.3333333333333333,
              "#9c179e"
             ],
             [
              0.4444444444444444,
              "#bd3786"
             ],
             [
              0.5555555555555556,
              "#d8576b"
             ],
             [
              0.6666666666666666,
              "#ed7953"
             ],
             [
              0.7777777777777778,
              "#fb9f3a"
             ],
             [
              0.8888888888888888,
              "#fdca26"
             ],
             [
              1,
              "#f0f921"
             ]
            ],
            "type": "histogram2d"
           }
          ],
          "histogram2dcontour": [
           {
            "colorbar": {
             "outlinewidth": 0,
             "ticks": ""
            },
            "colorscale": [
             [
              0,
              "#0d0887"
             ],
             [
              0.1111111111111111,
              "#46039f"
             ],
             [
              0.2222222222222222,
              "#7201a8"
             ],
             [
              0.3333333333333333,
              "#9c179e"
             ],
             [
              0.4444444444444444,
              "#bd3786"
             ],
             [
              0.5555555555555556,
              "#d8576b"
             ],
             [
              0.6666666666666666,
              "#ed7953"
             ],
             [
              0.7777777777777778,
              "#fb9f3a"
             ],
             [
              0.8888888888888888,
              "#fdca26"
             ],
             [
              1,
              "#f0f921"
             ]
            ],
            "type": "histogram2dcontour"
           }
          ],
          "mesh3d": [
           {
            "colorbar": {
             "outlinewidth": 0,
             "ticks": ""
            },
            "type": "mesh3d"
           }
          ],
          "parcoords": [
           {
            "line": {
             "colorbar": {
              "outlinewidth": 0,
              "ticks": ""
             }
            },
            "type": "parcoords"
           }
          ],
          "pie": [
           {
            "automargin": true,
            "type": "pie"
           }
          ],
          "scatter": [
           {
            "marker": {
             "colorbar": {
              "outlinewidth": 0,
              "ticks": ""
             }
            },
            "type": "scatter"
           }
          ],
          "scatter3d": [
           {
            "line": {
             "colorbar": {
              "outlinewidth": 0,
              "ticks": ""
             }
            },
            "marker": {
             "colorbar": {
              "outlinewidth": 0,
              "ticks": ""
             }
            },
            "type": "scatter3d"
           }
          ],
          "scattercarpet": [
           {
            "marker": {
             "colorbar": {
              "outlinewidth": 0,
              "ticks": ""
             }
            },
            "type": "scattercarpet"
           }
          ],
          "scattergeo": [
           {
            "marker": {
             "colorbar": {
              "outlinewidth": 0,
              "ticks": ""
             }
            },
            "type": "scattergeo"
           }
          ],
          "scattergl": [
           {
            "marker": {
             "colorbar": {
              "outlinewidth": 0,
              "ticks": ""
             }
            },
            "type": "scattergl"
           }
          ],
          "scattermapbox": [
           {
            "marker": {
             "colorbar": {
              "outlinewidth": 0,
              "ticks": ""
             }
            },
            "type": "scattermapbox"
           }
          ],
          "scatterpolar": [
           {
            "marker": {
             "colorbar": {
              "outlinewidth": 0,
              "ticks": ""
             }
            },
            "type": "scatterpolar"
           }
          ],
          "scatterpolargl": [
           {
            "marker": {
             "colorbar": {
              "outlinewidth": 0,
              "ticks": ""
             }
            },
            "type": "scatterpolargl"
           }
          ],
          "scatterternary": [
           {
            "marker": {
             "colorbar": {
              "outlinewidth": 0,
              "ticks": ""
             }
            },
            "type": "scatterternary"
           }
          ],
          "surface": [
           {
            "colorbar": {
             "outlinewidth": 0,
             "ticks": ""
            },
            "colorscale": [
             [
              0,
              "#0d0887"
             ],
             [
              0.1111111111111111,
              "#46039f"
             ],
             [
              0.2222222222222222,
              "#7201a8"
             ],
             [
              0.3333333333333333,
              "#9c179e"
             ],
             [
              0.4444444444444444,
              "#bd3786"
             ],
             [
              0.5555555555555556,
              "#d8576b"
             ],
             [
              0.6666666666666666,
              "#ed7953"
             ],
             [
              0.7777777777777778,
              "#fb9f3a"
             ],
             [
              0.8888888888888888,
              "#fdca26"
             ],
             [
              1,
              "#f0f921"
             ]
            ],
            "type": "surface"
           }
          ],
          "table": [
           {
            "cells": {
             "fill": {
              "color": "#EBF0F8"
             },
             "line": {
              "color": "white"
             }
            },
            "header": {
             "fill": {
              "color": "#C8D4E3"
             },
             "line": {
              "color": "white"
             }
            },
            "type": "table"
           }
          ]
         },
         "layout": {
          "annotationdefaults": {
           "arrowcolor": "#2a3f5f",
           "arrowhead": 0,
           "arrowwidth": 1
          },
          "autotypenumbers": "strict",
          "coloraxis": {
           "colorbar": {
            "outlinewidth": 0,
            "ticks": ""
           }
          },
          "colorscale": {
           "diverging": [
            [
             0,
             "#8e0152"
            ],
            [
             0.1,
             "#c51b7d"
            ],
            [
             0.2,
             "#de77ae"
            ],
            [
             0.3,
             "#f1b6da"
            ],
            [
             0.4,
             "#fde0ef"
            ],
            [
             0.5,
             "#f7f7f7"
            ],
            [
             0.6,
             "#e6f5d0"
            ],
            [
             0.7,
             "#b8e186"
            ],
            [
             0.8,
             "#7fbc41"
            ],
            [
             0.9,
             "#4d9221"
            ],
            [
             1,
             "#276419"
            ]
           ],
           "sequential": [
            [
             0,
             "#0d0887"
            ],
            [
             0.1111111111111111,
             "#46039f"
            ],
            [
             0.2222222222222222,
             "#7201a8"
            ],
            [
             0.3333333333333333,
             "#9c179e"
            ],
            [
             0.4444444444444444,
             "#bd3786"
            ],
            [
             0.5555555555555556,
             "#d8576b"
            ],
            [
             0.6666666666666666,
             "#ed7953"
            ],
            [
             0.7777777777777778,
             "#fb9f3a"
            ],
            [
             0.8888888888888888,
             "#fdca26"
            ],
            [
             1,
             "#f0f921"
            ]
           ],
           "sequentialminus": [
            [
             0,
             "#0d0887"
            ],
            [
             0.1111111111111111,
             "#46039f"
            ],
            [
             0.2222222222222222,
             "#7201a8"
            ],
            [
             0.3333333333333333,
             "#9c179e"
            ],
            [
             0.4444444444444444,
             "#bd3786"
            ],
            [
             0.5555555555555556,
             "#d8576b"
            ],
            [
             0.6666666666666666,
             "#ed7953"
            ],
            [
             0.7777777777777778,
             "#fb9f3a"
            ],
            [
             0.8888888888888888,
             "#fdca26"
            ],
            [
             1,
             "#f0f921"
            ]
           ]
          },
          "colorway": [
           "#636efa",
           "#EF553B",
           "#00cc96",
           "#ab63fa",
           "#FFA15A",
           "#19d3f3",
           "#FF6692",
           "#B6E880",
           "#FF97FF",
           "#FECB52"
          ],
          "font": {
           "color": "#2a3f5f"
          },
          "geo": {
           "bgcolor": "white",
           "lakecolor": "white",
           "landcolor": "#E5ECF6",
           "showlakes": true,
           "showland": true,
           "subunitcolor": "white"
          },
          "hoverlabel": {
           "align": "left"
          },
          "hovermode": "closest",
          "mapbox": {
           "style": "light"
          },
          "paper_bgcolor": "white",
          "plot_bgcolor": "#E5ECF6",
          "polar": {
           "angularaxis": {
            "gridcolor": "white",
            "linecolor": "white",
            "ticks": ""
           },
           "bgcolor": "#E5ECF6",
           "radialaxis": {
            "gridcolor": "white",
            "linecolor": "white",
            "ticks": ""
           }
          },
          "scene": {
           "xaxis": {
            "backgroundcolor": "#E5ECF6",
            "gridcolor": "white",
            "gridwidth": 2,
            "linecolor": "white",
            "showbackground": true,
            "ticks": "",
            "zerolinecolor": "white"
           },
           "yaxis": {
            "backgroundcolor": "#E5ECF6",
            "gridcolor": "white",
            "gridwidth": 2,
            "linecolor": "white",
            "showbackground": true,
            "ticks": "",
            "zerolinecolor": "white"
           },
           "zaxis": {
            "backgroundcolor": "#E5ECF6",
            "gridcolor": "white",
            "gridwidth": 2,
            "linecolor": "white",
            "showbackground": true,
            "ticks": "",
            "zerolinecolor": "white"
           }
          },
          "shapedefaults": {
           "line": {
            "color": "#2a3f5f"
           }
          },
          "ternary": {
           "aaxis": {
            "gridcolor": "white",
            "linecolor": "white",
            "ticks": ""
           },
           "baxis": {
            "gridcolor": "white",
            "linecolor": "white",
            "ticks": ""
           },
           "bgcolor": "#E5ECF6",
           "caxis": {
            "gridcolor": "white",
            "linecolor": "white",
            "ticks": ""
           }
          },
          "title": {
           "x": 0.05
          },
          "xaxis": {
           "automargin": true,
           "gridcolor": "white",
           "linecolor": "white",
           "ticks": "",
           "title": {
            "standoff": 15
           },
           "zerolinecolor": "white",
           "zerolinewidth": 2
          },
          "yaxis": {
           "automargin": true,
           "gridcolor": "white",
           "linecolor": "white",
           "ticks": "",
           "title": {
            "standoff": 15
           },
           "zerolinecolor": "white",
           "zerolinewidth": 2
          }
         }
        },
        "xaxis": {
         "anchor": "y",
         "domain": [
          0,
          1
         ],
         "title": {
          "text": "x"
         }
        },
        "yaxis": {
         "anchor": "x",
         "domain": [
          0,
          1
         ],
         "title": {
          "text": "y"
         }
        }
       }
      }
     },
     "metadata": {},
     "output_type": "display_data"
    }
   ],
   "source": [
    "px.bar(x=rfc_fi['feature'], y=rfc_fi['importance'])"
   ]
  },
  {
   "cell_type": "markdown",
   "metadata": {},
   "source": [
    "Faktycznie widzimy dostępność WiFi oraz typ podróży, a także ```Online boarding``` wysoko na wykresie. Opowiadają one za 43.7% całego rozkładu. \n",
    "Pierwsze pięć atrybutów odpowiada za prawie 60%."
   ]
  },
  {
   "cell_type": "markdown",
   "metadata": {},
   "source": [
    "### SHAP"
   ]
  },
  {
   "cell_type": "code",
   "execution_count": 8,
   "metadata": {},
   "outputs": [],
   "source": [
    "import shap"
   ]
  },
  {
   "cell_type": "code",
   "execution_count": 36,
   "metadata": {},
   "outputs": [],
   "source": [
    "explainer = shap.Explainer(rfc._final_estimator)\n",
    "shap_values = explainer(ct.transform(X_test)[:250,:])"
   ]
  },
  {
   "cell_type": "code",
   "execution_count": 38,
   "metadata": {},
   "outputs": [
    {
     "data": {
      "image/png": "[encoded data removed]",
      "text/plain": [
       "<Figure size 576x684 with 2 Axes>"
      ]
     },
     "metadata": {
      "needs_background": "light"
     },
     "output_type": "display_data"
    }
   ],
   "source": [
    "shap.summary_plot(shap_values[:,:,1], ct.transform(X_test)[:250,:], feature_names=np.array(new_columns))"
   ]
  },
  {
   "cell_type": "markdown",
   "metadata": {},
   "source": [
    "### Analiza\n",
    "\n",
    "SHAP wyznacza podobne atrybuty jako te najlepiej wyjaśniające działanie modelu. Znów ```Type of Travel``` jest w czołówce.\n",
    "Widać, że osoby podróżujące w celach biznesowych (niebieski) mają z reguły lepszą satysfakcję z lotu. Jest to jednak niewielki wzrost.\n",
    "Z kolei osoby podróżujące prywatnie z reguły nie bawią się aż tak dobrze i tutaj wariancja wpływu na satysfakcję jest znacznie większa.\n",
    "\n",
    "Ponownie widzimy korelację między dostępem do WiFi a satysfakcją. Tyczy się to także innych udogodnień (jak komfort, miejsce na nogi czy czystość).\n",
    "\n",
    "Ponownie ciekawym jest brak większego wpływu opóźnień na satysfakcję lotu. Co nie zmienia faktu, że loty opóźnione nie cieszą się zwiększoną satysfakcją."
   ]
  },
  {
   "cell_type": "markdown",
   "metadata": {},
   "source": [
    "### Podsumowanie\n",
    "\n",
    "Ostatecznie można stwierdzić, że model w szczególności bierze pod uwagę\n",
    "\n",
    "- Type of Travel\n",
    "- Online boarding\n",
    "- Inflight WiFi\n",
    "- Class\n",
    "- Customer Type\n",
    "\n",
    "Udogodnienia w trakcie lotu mają mniejsze pojedyncze znaczenie jednak łącznie są ważnym czynnikiem.\n",
    "\n",
    "Mniejsze znaczenie mają atrybuty związane z czekaniem i wsiadaniem do samolotu. W szczególności zaskakująco mało ważne jest opóźnienie."
   ]
  }
 ],
 "metadata": {
  "interpreter": {
   "hash": "fbfcec57860ab8450ebef65b38e7d5003623b9e023c53ea7dc434eacc99f9634"
  },
  "kernelspec": {
   "display_name": "Python 3.8.8 ('base')",
   "language": "python",
   "name": "python3"
  },
  "language_info": {
   "codemirror_mode": {
    "name": "ipython",
    "version": 3
   },
   "file_extension": ".py",
   "mimetype": "text/x-python",
   "name": "python",
   "nbconvert_exporter": "python",
   "pygments_lexer": "ipython3",
   "version": "3.8.8"
  },
  "orig_nbformat": 4
 },
 "nbformat": 4,
 "nbformat_minor": 2
}
